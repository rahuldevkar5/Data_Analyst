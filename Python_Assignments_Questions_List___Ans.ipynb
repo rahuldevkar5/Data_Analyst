{
  "nbformat": 4,
  "nbformat_minor": 0,
  "metadata": {
    "colab": {
      "name": "Python_Assignments_Questions_List _ Ans.ipynb",
      "provenance": [],
      "authorship_tag": "ABX9TyPMUNJeA0wd0zLqVoeE8thR",
      "include_colab_link": true
    },
    "kernelspec": {
      "name": "python3",
      "display_name": "Python 3"
    },
    "language_info": {
      "name": "python"
    }
  },
  "cells": [
    {
      "cell_type": "markdown",
      "metadata": {
        "id": "view-in-github",
        "colab_type": "text"
      },
      "source": [
        "<a href=\"https://colab.research.google.com/github/rahuldevkar5/Data_Analyst/blob/main/Python_Assignments_Questions_List___Ans.ipynb\" target=\"_parent\"><img src=\"https://colab.research.google.com/assets/colab-badge.svg\" alt=\"Open In Colab\"/></a>"
      ]
    },
    {
      "cell_type": "markdown",
      "metadata": {
        "id": "y9GK3WTzhcjE"
      },
      "source": [
        "1. Write a Python program which accepts a sequence of comma-separated numbers from user and generate a list and a tuple with those numbers.\n"
      ]
    },
    {
      "cell_type": "code",
      "metadata": {
        "colab": {
          "base_uri": "https://localhost:8080/"
        },
        "id": "Ii-6mwWthQpo",
        "outputId": "cd43a882-2d8d-4999-d9d8-e8f4f23cfefd"
      },
      "source": [
        "values = input(\"Input some comma seprated numbers : \")\n",
        "list = values.split(\",\")\n",
        "tuple = tuple(list)\n",
        "print('List : ',list)\n",
        "print('Tuple : ',tuple)"
      ],
      "execution_count": 1,
      "outputs": [
        {
          "output_type": "stream",
          "text": [
            "Input some comma seprated numbers : 3, 5, 7, 23\n",
            "List :  ['3', ' 5', ' 7', ' 23']\n",
            "Tuple :  ('3', ' 5', ' 7', ' 23')\n"
          ],
          "name": "stdout"
        }
      ]
    },
    {
      "cell_type": "markdown",
      "metadata": {
        "id": "CEZkTkAGkAxT"
      },
      "source": [
        "2.Write a Python program to display the first and last colors from the following list.\n"
      ]
    },
    {
      "cell_type": "code",
      "metadata": {
        "colab": {
          "base_uri": "https://localhost:8080/"
        },
        "id": "ZrAYfBHmiRTw",
        "outputId": "450693b7-36c3-48ca-969b-fb2d8673105c"
      },
      "source": [
        "color_list = [\"Red\",\"Green\",\"White\" ,\"Black\"]\n",
        "print((color_list[0],color_list[-1]))"
      ],
      "execution_count": 2,
      "outputs": [
        {
          "output_type": "stream",
          "text": [
            "('Red', 'Black')\n"
          ],
          "name": "stdout"
        }
      ]
    },
    {
      "cell_type": "markdown",
      "metadata": {
        "id": "12ooseXAoCbg"
      },
      "source": [
        "3. Write a Python program to print the even numbers from a given list.\n",
        "\n"
      ]
    },
    {
      "cell_type": "code",
      "metadata": {
        "colab": {
          "base_uri": "https://localhost:8080/"
        },
        "id": "5LI1sOLxnz2E",
        "outputId": "951ca0db-5840-4f8a-bf0a-46c4d103d47f"
      },
      "source": [
        "list1 = [1, 2, 3, 4, 5, 6, 7, 8, 9]\n",
        "for num in list1:\n",
        "  if num % 2 == 0:\n",
        "      print(num, end = \" \")"
      ],
      "execution_count": 3,
      "outputs": [
        {
          "output_type": "stream",
          "text": [
            "2 4 6 8 "
          ],
          "name": "stdout"
        }
      ]
    },
    {
      "cell_type": "code",
      "metadata": {
        "id": "bFLROBFUokMW"
      },
      "source": [
        ""
      ],
      "execution_count": null,
      "outputs": []
    }
  ]
}