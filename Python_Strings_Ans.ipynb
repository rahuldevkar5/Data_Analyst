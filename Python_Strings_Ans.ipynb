{
  "nbformat": 4,
  "nbformat_minor": 0,
  "metadata": {
    "colab": {
      "name": "Python_Strings_Ans.ipynb",
      "provenance": [],
      "authorship_tag": "ABX9TyM5c2EGfGvc/cYF3dkqNMLE",
      "include_colab_link": true
    },
    "kernelspec": {
      "name": "python3",
      "display_name": "Python 3"
    },
    "language_info": {
      "name": "python"
    }
  },
  "cells": [
    {
      "cell_type": "markdown",
      "metadata": {
        "id": "view-in-github",
        "colab_type": "text"
      },
      "source": [
        "<a href=\"https://colab.research.google.com/github/rahuldevkar5/Data_Analyst/blob/main/Python_Strings_Ans.ipynb\" target=\"_parent\"><img src=\"https://colab.research.google.com/assets/colab-badge.svg\" alt=\"Open In Colab\"/></a>"
      ]
    },
    {
      "cell_type": "markdown",
      "metadata": {
        "id": "zXMMbiNN7b1f"
      },
      "source": [
        "1. Write a Python program to concatenate all elements in a list into a string and return it."
      ]
    },
    {
      "cell_type": "code",
      "metadata": {
        "colab": {
          "base_uri": "https://localhost:8080/"
        },
        "id": "itzk1Eg_6zi0",
        "outputId": "3f1b2248-3922-4a2a-a1df-58d07edd54b8"
      },
      "source": [
        "def concatenate_list_data(list):\n",
        "    result= ''\n",
        "    for element in list:\n",
        "        result += str(element)\n",
        "    return result\n",
        "print(concatenate_list_data([\"Rahul\",\"Devkar\"]))\n"
      ],
      "execution_count": 1,
      "outputs": [
        {
          "output_type": "stream",
          "text": [
            "RahulDevkar\n"
          ],
          "name": "stdout"
        }
      ]
    }
  ]
}