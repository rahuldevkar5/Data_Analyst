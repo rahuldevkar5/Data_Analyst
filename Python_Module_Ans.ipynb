{
  "nbformat": 4,
  "nbformat_minor": 0,
  "metadata": {
    "colab": {
      "name": "Python_Module_Ans.ipynb",
      "provenance": [],
      "authorship_tag": "ABX9TyMdwQ1HiTsBe9CQtJP6+j3j",
      "include_colab_link": true
    },
    "kernelspec": {
      "name": "python3",
      "display_name": "Python 3"
    },
    "language_info": {
      "name": "python"
    }
  },
  "cells": [
    {
      "cell_type": "markdown",
      "metadata": {
        "id": "view-in-github",
        "colab_type": "text"
      },
      "source": [
        "<a href=\"https://colab.research.google.com/github/rahuldevkar5/Data_Analyst/blob/main/Python_Module_Ans.ipynb\" target=\"_parent\"><img src=\"https://colab.research.google.com/assets/colab-badge.svg\" alt=\"Open In Colab\"/></a>"
      ]
    },
    {
      "cell_type": "markdown",
      "metadata": {
        "id": "DoRiwgU0shIh"
      },
      "source": [
        "1. Write a Python program to calculate number of days between two dates. Hint: use Datetime package/module."
      ]
    },
    {
      "cell_type": "code",
      "metadata": {
        "colab": {
          "base_uri": "https://localhost:8080/"
        },
        "id": "2Y4VD6ZcrrJR",
        "outputId": "e819a96d-9b8e-4464-de11-01d23e631978"
      },
      "source": [
        "from datetime import date\n",
        "f_date = date(2014, 7, 2)\n",
        "l_date = date(2014, 7, 11)\n",
        "delta = l_date - f_date\n",
        "print(delta.days)"
      ],
      "execution_count": 1,
      "outputs": [
        {
          "output_type": "stream",
          "text": [
            "9\n"
          ],
          "name": "stdout"
        }
      ]
    },
    {
      "cell_type": "code",
      "metadata": {
        "id": "6ciu0hmrsy1a"
      },
      "source": [
        ""
      ],
      "execution_count": null,
      "outputs": []
    }
  ]
}